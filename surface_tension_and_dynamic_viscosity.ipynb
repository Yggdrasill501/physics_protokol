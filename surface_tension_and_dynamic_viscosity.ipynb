{
 "cells": [
  {
   "cell_type": "markdown",
   "id": "205a4d82-04a9-4fee-bc3d-f7a8352a434e",
   "metadata": {},
   "source": [
    "# Meranie povrchového napätia a dynamickej viskozity kvapalín a plynov \n",
    "Dátum merania: 1.11. -15.11.\n",
    "Vypracovali: Šimon Nemčič, Filip Žitný, Rebecca Kozmová\n"
   ]
  },
  {
   "cell_type": "markdown",
   "id": "9b08de9e-c16d-48f8-a7bc-228855875286",
   "metadata": {},
   "source": [
    "## 1 Pracovné úlohy"
   ]
  },
  {
   "cell_type": "markdown",
   "id": "60c12566-06af-42b9-9fcf-842a51ecfbe5",
   "metadata": {},
   "source": [
    "## 1 D.Ú. : Odvoďte vzťah  pre závislosť hustoty látky ρϑ ako funkciu teploty ϑ.\n",
    "$ρϑ = {ρ^0}/ {1 + β(ϑ − ϑ0)}$\n",
    "\n",
    "Kde parameter β predstavuje súčiniteľ objemovej rozťažnosti a veličina ρ0  popisuje známu hustotu uvažovanej  látky pri teplote ϑ0.\n"
   ]
  },
  {
   "cell_type": "code",
   "execution_count": null,
   "id": "6fc7c44c-d486-4709-b48d-45951b33eb38",
   "metadata": {},
   "outputs": [],
   "source": []
  },
  {
   "cell_type": "markdown",
   "id": "241a6805-8a31-41ce-bf01-2421b32d43d8",
   "metadata": {},
   "source": [
    "\n",
    "\n",
    " D.Ú. : Odvoďte vzťah pre relatívnu  chybu nepriameho merania:  \n",
    "a.) pre  povrchové napätie  kvapkovou metódou 11 . Vyjdite z nasledujúceho vzťahu.\n",
    "\n",
    "$ 1 = (∂1∂m1measured)2m1measured2+ ∂1∂m2measured2m2measured2 $\n",
    "b.)  pre dynamickú viskozitu meranú Stokesovou metódou∆ηη . Vyjdite z nasledujúceho vzťahu. \n",
    " $=(∂η∂r) 2 (∆r)2 +(∂η ∂u)2 (∆u)2 +( ∂η∂ρ)2 (∆)2$\n",
    "\n",
    "c.)  pre dynamickú viskozitu meranú Stokesovou metódou opravenou na rozmery viskozimetra  ∆ηcorrηcorr. Využite výsledky z predchádzajúcej podúlohy. Vyjdite z nasledujúceho vzťahu. \n",
    "OPRAVIŤ ROVNICU \n",
    "$∆ηcorr = (∂ηcorr∂r)2 (∆r)2+ (∂ηcorr∂u)2 (∆u)2  +  ∂ηcorr ∂ρ¯ 2 (∆¯ρ) 2 +  ∂ηcorr ∂R 2 (∆R) 2 +  ∂ηcorr ∂h 2 (∆h) 2$"
   ]
  },
  {
   "cell_type": "markdown",
   "id": "7bca95b3-9b35-4209-aabc-edcda6ac5f4d",
   "metadata": {},
   "source": [
    "## 5. Vypracovanie"
   ]
  },
  {
   "cell_type": "code",
   "execution_count": 3,
   "id": "2cd8c214-587f-4fc2-9b94-dc3683a7102e",
   "metadata": {},
   "outputs": [],
   "source": [
    "import pandas\n",
    "import numpy\n",
    "import matplotlib.pyplot"
   ]
  },
  {
   "cell_type": "code",
   "execution_count": null,
   "id": "3dc1719b-b33d-43e9-81d5-9f32e529dbe2",
   "metadata": {},
   "outputs": [],
   "source": []
  }
 ],
 "metadata": {
  "kernelspec": {
   "display_name": "Python 3 (ipykernel)",
   "language": "python",
   "name": "python3"
  },
  "language_info": {
   "codemirror_mode": {
    "name": "ipython",
    "version": 3
   },
   "file_extension": ".py",
   "mimetype": "text/x-python",
   "name": "python",
   "nbconvert_exporter": "python",
   "pygments_lexer": "ipython3",
   "version": "3.10.7"
  }
 },
 "nbformat": 4,
 "nbformat_minor": 5
}
