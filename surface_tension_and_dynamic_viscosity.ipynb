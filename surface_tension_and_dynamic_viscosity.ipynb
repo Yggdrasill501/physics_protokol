{
 "cells": [
  {
   "cell_type": "markdown",
   "id": "205a4d82-04a9-4fee-bc3d-f7a8352a434e",
   "metadata": {},
   "source": [
    "# Meranie povrchového napätia a dynamickej viskozity kvapalín a plynov \n",
    "Dátum merania: 1.11. -15.11.\n",
    "Vypracovali: Šimon Nemčič, Filip Žitný, Rebecca Kozmová\n"
   ]
  },
  {
   "cell_type": "markdown",
   "id": "9b08de9e-c16d-48f8-a7bc-228855875286",
   "metadata": {},
   "source": [
    "## 1 Pracovné úlohy"
   ]
  },
  {
   "cell_type": "markdown",
   "id": "60c12566-06af-42b9-9fcf-842a51ecfbe5",
   "metadata": {},
   "source": [
    "## 1 D.Ú. : Odvoďte vzťah  pre závislosť hustoty látky ρϑ ako funkciu teploty ϑ.\n",
    "$ρϑ = {ρ^0}/ {1 + β(ϑ − ϑ0)}$\n",
    "\n",
    "Kde parameter β predstavuje súčiniteľ objemovej rozťažnosti a veličina ρ0  popisuje známu hustotu uvažovanej  látky pri teplote ϑ0.\n"
   ]
  },
  {
   "cell_type": "code",
   "execution_count": null,
   "id": "6fc7c44c-d486-4709-b48d-45951b33eb38",
   "metadata": {},
   "outputs": [],
   "source": []
  },
  {
   "cell_type": "markdown",
   "id": "241a6805-8a31-41ce-bf01-2421b32d43d8",
   "metadata": {},
   "source": [
    "\n",
    "\n",
    " D.Ú. : Odvoďte vzťah pre relatívnu  chybu nepriameho merania:  \n",
    "a.) pre  povrchové napätie  kvapkovou metódou 11 . Vyjdite z nasledujúceho vzťahu.\n",
    "\n",
    "$ 1 = (∂1∂m1measured)2m1measured2+ ∂1∂m2measured2m2measured2 $\n",
    "b.)  pre dynamickú viskozitu meranú Stokesovou metódou∆ηη . Vyjdite z nasledujúceho vzťahu. \n",
    " $=(∂η∂r) 2 (∆r)2 +(∂η ∂u)2 (∆u)2 +( ∂η∂ρ)2 (∆)2$\n",
    "\n",
    "c.)  pre dynamickú viskozitu meranú Stokesovou metódou opravenou na rozmery viskozimetra  ∆ηcorrηcorr. Využite výsledky z predchádzajúcej podúlohy. Vyjdite z nasledujúceho vzťahu. \n",
    "OPRAVIŤ ROVNICU \n",
    "$∆ηcorr = (∂ηcorr∂r)2 (∆r)2+ (∂ηcorr∂u)2 (∆u)2  +  ∂ηcorr ∂ρ¯ 2 (∆¯ρ) 2 +  ∂ηcorr ∂R 2 (∆R) 2 +  ∂ηcorr ∂h 2 (∆h) 2$"
   ]
  },
  {
   "cell_type": "markdown",
   "id": "7bca95b3-9b35-4209-aabc-edcda6ac5f4d",
   "metadata": {},
   "source": [
    "## 5. Vypracovanie"
   ]
  },
  {
   "cell_type": "code",
   "execution_count": 3,
   "id": "2cd8c214-587f-4fc2-9b94-dc3683a7102e",
   "metadata": {},
   "outputs": [],
   "source": [
    "import pandas\n",
    "import numpy\n",
    "import matplotlib.pyplot as plt"
   ]
  },
  {
   "cell_type": "code",
   "execution_count": 9,
   "id": "3dc1719b-b33d-43e9-81d5-9f32e529dbe2",
   "metadata": {},
   "outputs": [
    {
     "data": {
      "text/html": [
       "<div>\n",
       "<style scoped>\n",
       "    .dataframe tbody tr th:only-of-type {\n",
       "        vertical-align: middle;\n",
       "    }\n",
       "\n",
       "    .dataframe tbody tr th {\n",
       "        vertical-align: top;\n",
       "    }\n",
       "\n",
       "    .dataframe thead th {\n",
       "        text-align: right;\n",
       "    }\n",
       "</style>\n",
       "<table border=\"1\" class=\"dataframe\">\n",
       "  <thead>\n",
       "    <tr style=\"text-align: right;\">\n",
       "      <th></th>\n",
       "      <th>Mass H2O</th>\n",
       "      <th>Mass Alcohol</th>\n",
       "    </tr>\n",
       "  </thead>\n",
       "  <tbody>\n",
       "    <tr>\n",
       "      <th>0</th>\n",
       "      <td>1.34331</td>\n",
       "      <td>0.44715</td>\n",
       "    </tr>\n",
       "    <tr>\n",
       "      <th>1</th>\n",
       "      <td>0.94384</td>\n",
       "      <td>0.58119</td>\n",
       "    </tr>\n",
       "    <tr>\n",
       "      <th>2</th>\n",
       "      <td>1.45551</td>\n",
       "      <td>0.39632</td>\n",
       "    </tr>\n",
       "    <tr>\n",
       "      <th>3</th>\n",
       "      <td>1.25512</td>\n",
       "      <td>0.50261</td>\n",
       "    </tr>\n",
       "    <tr>\n",
       "      <th>4</th>\n",
       "      <td>1.35290</td>\n",
       "      <td>0.46353</td>\n",
       "    </tr>\n",
       "    <tr>\n",
       "      <th>5</th>\n",
       "      <td>1.47130</td>\n",
       "      <td>0.48360</td>\n",
       "    </tr>\n",
       "  </tbody>\n",
       "</table>\n",
       "</div>"
      ],
      "text/plain": [
       "   Mass H2O   Mass Alcohol\n",
       "0   1.34331        0.44715\n",
       "1   0.94384        0.58119\n",
       "2   1.45551        0.39632\n",
       "3   1.25512        0.50261\n",
       "4   1.35290        0.46353\n",
       "5   1.47130        0.48360"
      ]
     },
     "execution_count": 9,
     "metadata": {},
     "output_type": "execute_result"
    }
   ],
   "source": [
    "surface_tension_data = pandas.read_csv('data/surface_tension_of_alcohol.csv')\n",
    "surface_tension_data"
   ]
  },
  {
   "cell_type": "code",
   "execution_count": 11,
   "id": "051a59c0-bf78-49c5-8b87-066b98783379",
   "metadata": {},
   "outputs": [
    {
     "data": {
      "text/html": [
       "<div>\n",
       "<style scoped>\n",
       "    .dataframe tbody tr th:only-of-type {\n",
       "        vertical-align: middle;\n",
       "    }\n",
       "\n",
       "    .dataframe tbody tr th {\n",
       "        vertical-align: top;\n",
       "    }\n",
       "\n",
       "    .dataframe thead th {\n",
       "        text-align: right;\n",
       "    }\n",
       "</style>\n",
       "<table border=\"1\" class=\"dataframe\">\n",
       "  <thead>\n",
       "    <tr style=\"text-align: right;\">\n",
       "      <th></th>\n",
       "      <th>V[ml]</th>\n",
       "      <th>t[s]</th>\n",
       "      <th>h[cm]</th>\n",
       "    </tr>\n",
       "  </thead>\n",
       "  <tbody>\n",
       "    <tr>\n",
       "      <th>0</th>\n",
       "      <td>4</td>\n",
       "      <td>16</td>\n",
       "      <td>2.0</td>\n",
       "    </tr>\n",
       "    <tr>\n",
       "      <th>1</th>\n",
       "      <td>8</td>\n",
       "      <td>30</td>\n",
       "      <td>4.0</td>\n",
       "    </tr>\n",
       "    <tr>\n",
       "      <th>2</th>\n",
       "      <td>8</td>\n",
       "      <td>30</td>\n",
       "      <td>1.0</td>\n",
       "    </tr>\n",
       "    <tr>\n",
       "      <th>3</th>\n",
       "      <td>25</td>\n",
       "      <td>9</td>\n",
       "      <td>5.0</td>\n",
       "    </tr>\n",
       "    <tr>\n",
       "      <th>4</th>\n",
       "      <td>27</td>\n",
       "      <td>15</td>\n",
       "      <td>4.0</td>\n",
       "    </tr>\n",
       "    <tr>\n",
       "      <th>5</th>\n",
       "      <td>28</td>\n",
       "      <td>7</td>\n",
       "      <td>1.0</td>\n",
       "    </tr>\n",
       "    <tr>\n",
       "      <th>6</th>\n",
       "      <td>25</td>\n",
       "      <td>30</td>\n",
       "      <td>6.0</td>\n",
       "    </tr>\n",
       "    <tr>\n",
       "      <th>7</th>\n",
       "      <td>27</td>\n",
       "      <td>15</td>\n",
       "      <td>5.0</td>\n",
       "    </tr>\n",
       "    <tr>\n",
       "      <th>8</th>\n",
       "      <td>27</td>\n",
       "      <td>10</td>\n",
       "      <td>3.0</td>\n",
       "    </tr>\n",
       "    <tr>\n",
       "      <th>9</th>\n",
       "      <td>24</td>\n",
       "      <td>28</td>\n",
       "      <td>4.5</td>\n",
       "    </tr>\n",
       "  </tbody>\n",
       "</table>\n",
       "</div>"
      ],
      "text/plain": [
       "   V[ml]   t[s]   h[cm]\n",
       "0      4     16     2.0\n",
       "1      8     30     4.0\n",
       "2      8     30     1.0\n",
       "3     25      9     5.0\n",
       "4     27     15     4.0\n",
       "5     28      7     1.0\n",
       "6     25     30     6.0\n",
       "7     27     15     5.0\n",
       "8     27     10     3.0\n",
       "9     24     28     4.5"
      ]
     },
     "execution_count": 11,
     "metadata": {},
     "output_type": "execute_result"
    }
   ],
   "source": [
    "dynamic_air_viscosity = pandas.read_csv('data/dynamic_air_viscosity.csv')\n",
    "dynamic_air_viscosity"
   ]
  },
  {
   "cell_type": "raw",
   "id": "4d7e31e0-2b4e-4a87-ba90-fcfc3d72514f",
   "metadata": {},
   "source": []
  }
 ],
 "metadata": {
  "kernelspec": {
   "display_name": "Python 3 (ipykernel)",
   "language": "python",
   "name": "python3"
  },
  "language_info": {
   "codemirror_mode": {
    "name": "ipython",
    "version": 3
   },
   "file_extension": ".py",
   "mimetype": "text/x-python",
   "name": "python",
   "nbconvert_exporter": "python",
   "pygments_lexer": "ipython3",
   "version": "3.10.7"
  }
 },
 "nbformat": 4,
 "nbformat_minor": 5
}
